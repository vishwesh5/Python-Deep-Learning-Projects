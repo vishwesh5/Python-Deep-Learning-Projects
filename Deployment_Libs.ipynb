{
  "nbformat": 4,
  "nbformat_minor": 0,
  "metadata": {
    "colab": {
      "name": "Deployment-Libs.ipynb",
      "version": "0.3.2",
      "provenance": [],
      "include_colab_link": true
    },
    "kernelspec": {
      "name": "python3",
      "display_name": "Python 3"
    }
  },
  "cells": [
    {
      "cell_type": "markdown",
      "metadata": {
        "id": "view-in-github",
        "colab_type": "text"
      },
      "source": [
        "<a href=\"https://colab.research.google.com/github/vishwesh5/Python-Deep-Learning-Projects/blob/master/Deployment_Libs.ipynb\" target=\"_parent\"><img src=\"https://colab.research.google.com/assets/colab-badge.svg\" alt=\"Open In Colab\"/></a>"
      ]
    },
    {
      "metadata": {
        "id": "MY78OxlW1ovd",
        "colab_type": "code",
        "colab": {
          "base_uri": "https://localhost:8080/",
          "height": 258
        },
        "outputId": "93efe76e-ea56-4fb6-898c-545ae494cb34"
      },
      "cell_type": "code",
      "source": [
        "# Install libraries\n",
        "!pip install utils\n",
        "!pip install db==0.1.1\n",
        "!pip install web.py==0.40-dev1\n",
        "!pip install gunicorn"
      ],
      "execution_count": 8,
      "outputs": [
        {
          "output_type": "stream",
          "text": [
            "Requirement already satisfied: utils in /usr/local/lib/python3.6/dist-packages (0.9.0)\n",
            "Requirement already satisfied: db==0.1.1 in /usr/local/lib/python3.6/dist-packages (0.1.1)\n",
            "Requirement already satisfied: antiorm in /usr/local/lib/python3.6/dist-packages (from db==0.1.1) (1.2.1)\n",
            "Collecting web.py==0.40-dev1\n",
            "\u001b[?25l  Downloading https://files.pythonhosted.org/packages/db/a5/8dfacc190908f987663269a92efa682175c377e3f7eab84ed0a89c963b47/web.py-0.40.dev1.tar.gz (117kB)\n",
            "\u001b[K    100% |████████████████████████████████| 122kB 6.2MB/s \n",
            "\u001b[?25hBuilding wheels for collected packages: web.py\n",
            "  Running setup.py bdist_wheel for web.py ... \u001b[?25l-\b \b\\\b \bdone\n",
            "\u001b[?25h  Stored in directory: /root/.cache/pip/wheels/1b/15/12/4fd91f5ed7e3c8aae085050cce83f72b7ca4f463bf3e67d2b7\n",
            "Successfully built web.py\n",
            "Installing collected packages: web.py\n",
            "Successfully installed web.py-0.40.dev1\n",
            "Requirement already satisfied: gunicorn in /usr/local/lib/python3.6/dist-packages (19.9.0)\n"
          ],
          "name": "stdout"
        }
      ]
    },
    {
      "metadata": {
        "id": "NekY3k9N3MFD",
        "colab_type": "code",
        "colab": {}
      },
      "cell_type": "code",
      "source": [
        ""
      ],
      "execution_count": 0,
      "outputs": []
    }
  ]
}